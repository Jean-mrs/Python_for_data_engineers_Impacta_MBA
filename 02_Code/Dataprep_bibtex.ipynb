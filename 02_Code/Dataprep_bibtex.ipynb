{
 "cells": [
  {
   "cell_type": "code",
   "execution_count": 41,
   "metadata": {},
   "outputs": [],
   "source": [
    "#!conda install -n impacta_env ipykernel --update-deps --force-reinstall\n",
    "#!pip install bibtexparser"
   ]
  },
  {
   "cell_type": "code",
   "execution_count": 42,
   "metadata": {},
   "outputs": [],
   "source": [
    "import bibtexparser\n",
    "import pandas as pd\n",
    "import numpy as np\n",
    "import os\n",
    "import glob\n",
    "\n",
    "import warnings\n",
    "warnings.simplefilter(action = 'ignore', category = FutureWarning)\n",
    "\n",
    "pd.set_option('display.max_rows', 100)\n",
    "pd.set_option('display.max_columns', 100)\n",
    "pd.set_option('display.width', 300)"
   ]
  },
  {
   "cell_type": "markdown",
   "metadata": {},
   "source": [
    "# Def Functions"
   ]
  },
  {
   "cell_type": "code",
   "execution_count": 43,
   "metadata": {},
   "outputs": [],
   "source": [
    "#def1\n",
    "def read_bib(file_path: str):\n",
    "    '''\n",
    "    Function to read and parse bib files to dataframe object.\n",
    "    path: bib file path\n",
    "    '''\n",
    "    with open(file_path) as bibtex_file:\n",
    "        bib_file = bibtexparser.load(bibtex_file)\n",
    "    df = pd.DataFrame(bib_file.entries)\n",
    "    \n",
    "    return df\n",
    "#########################################################################\n",
    "\n",
    "#def2\n",
    "def load_bib(folder_path: str):\n",
    "    \n",
    "    '''\n",
    "    Function to: \n",
    "    1) read and parse bib files from a list of directories (folders); \n",
    "    2) concatenate multiple dataframes in an only one\n",
    "    \n",
    "    folder_path: directories path where are located the bib files\n",
    "    \n",
    "    '''\n",
    "    \n",
    "    #listing bib files path from acm directory\n",
    "    list_files = []\n",
    "    for file in glob.glob(f'{folder_path}/*.bib'):\n",
    "        list_files.append(file)\n",
    "\n",
    "    #loading each bib file listed\n",
    "    list_df = []\n",
    "    c = 1\n",
    "    for file in list_files:\n",
    "        df_temp = read_bib(file) #def\n",
    "        list_df.append(df_temp)\n",
    "        print(f'{c} de {len(list_files)}: {file}')\n",
    "        c += 1\n",
    "\n",
    "    #concatenating all files in a unique dataframe object\n",
    "    df = pd.concat(list_df)\n",
    "    print(f'Shape df_{folder}: ', df.shape)\n",
    "    \n",
    "    return df\n",
    "#########################################################################\n",
    "\n",
    "#def3\n",
    "def write_yaml (data, file_name):\n",
    "  with open(f'../03_OutputFiles/{file_name}.yaml', 'w') as output_file:\n",
    "    yaml.dump_all(data.to_dict('records'), output_file, default_flow_style=False)\n",
    "    print(f\"{file_name}.yaml successfully written\")\n",
    "#########################################################################\n",
    "\n",
    "#def4\n",
    "def write_json (data, file_name):\n",
    "  data.to_json(f'../03_OutputFiles/{file_name}.json', orient='records', indent=4)\n",
    "  print(f\"{file_name}.json successfully written\")\n",
    "#########################################################################\n",
    "\n",
    "#def5\n",
    "def write_csv (data, file_name):\n",
    "  data.to_csv(f'../03_OutputFiles/{file_name}.csv',sep=';', index = False)\n",
    "  print(f\"{file_name}.csv successfully written\")\n",
    "#########################################################################\n",
    "\n",
    "#def6\n",
    "def read_yaml (file_name):\n",
    "  with open(file_name, \"r\") as yamlfile:\n",
    "      data = yaml.load(yamlfile, Loader=yaml.FullLoader)\n",
    "      print(f\"{file_name} read successfully\")\n",
    "  return data"
   ]
  },
  {
   "cell_type": "markdown",
   "metadata": {},
   "source": [
    "# Reading, loading and concatenating all bibtex files"
   ]
  },
  {
   "cell_type": "code",
   "execution_count": 46,
   "metadata": {},
   "outputs": [
    {
     "name": "stdout",
     "output_type": "stream",
     "text": [
      "\n",
      " ../01_Datasets/acm\n",
      "1 de 15: ../01_Datasets/acm/acm (1).bib\n",
      "2 de 15: ../01_Datasets/acm/acm (10).bib\n",
      "3 de 15: ../01_Datasets/acm/acm (11).bib\n",
      "4 de 15: ../01_Datasets/acm/acm (12).bib\n",
      "5 de 15: ../01_Datasets/acm/acm (13).bib\n",
      "6 de 15: ../01_Datasets/acm/acm (14).bib\n",
      "7 de 15: ../01_Datasets/acm/acm (2).bib\n",
      "8 de 15: ../01_Datasets/acm/acm (3).bib\n",
      "9 de 15: ../01_Datasets/acm/acm (4).bib\n",
      "10 de 15: ../01_Datasets/acm/acm (5).bib\n",
      "11 de 15: ../01_Datasets/acm/acm (6).bib\n",
      "12 de 15: ../01_Datasets/acm/acm (7).bib\n",
      "13 de 15: ../01_Datasets/acm/acm (8).bib\n",
      "14 de 15: ../01_Datasets/acm/acm (9).bib\n",
      "15 de 15: ../01_Datasets/acm/acm.bib\n",
      "Shape df_../01_Datasets/sciencedirect:  (1451, 27)\n",
      "\n",
      " ../01_Datasets/ieee\n",
      "1 de 5: ../01_Datasets/ieee/ieee01.bib\n",
      "2 de 5: ../01_Datasets/ieee/ieee02.bib\n",
      "3 de 5: ../01_Datasets/ieee/ieee03.bib\n",
      "4 de 5: ../01_Datasets/ieee/ieee04.bib\n",
      "5 de 5: ../01_Datasets/ieee/ieee05.bib\n",
      "Shape df_../01_Datasets/sciencedirect:  (466, 18)\n",
      "\n",
      " ../01_Datasets/sciencedirect\n",
      "1 de 51: ../01_Datasets/sciencedirect/ScienceDirect_citations_1664900981798.bib\n",
      "2 de 51: ../01_Datasets/sciencedirect/ScienceDirect_citations_1664900996606.bib\n",
      "3 de 51: ../01_Datasets/sciencedirect/ScienceDirect_citations_1664901008566.bib\n",
      "4 de 51: ../01_Datasets/sciencedirect/ScienceDirect_citations_1664901022672.bib\n",
      "5 de 51: ../01_Datasets/sciencedirect/ScienceDirect_citations_1664901034634.bib\n",
      "6 de 51: ../01_Datasets/sciencedirect/ScienceDirect_citations_1664901049390.bib\n",
      "7 de 51: ../01_Datasets/sciencedirect/ScienceDirect_citations_1664901062597.bib\n",
      "8 de 51: ../01_Datasets/sciencedirect/ScienceDirect_citations_1664901076219.bib\n",
      "9 de 51: ../01_Datasets/sciencedirect/ScienceDirect_citations_1664901313104.bib\n",
      "10 de 51: ../01_Datasets/sciencedirect/ScienceDirect_citations_1664901325707.bib\n",
      "11 de 51: ../01_Datasets/sciencedirect/ScienceDirect_citations_1664901341946.bib\n",
      "12 de 51: ../01_Datasets/sciencedirect/ScienceDirect_citations_1664901354705.bib\n",
      "13 de 51: ../01_Datasets/sciencedirect/ScienceDirect_citations_1664901373091.bib\n",
      "14 de 51: ../01_Datasets/sciencedirect/ScienceDirect_citations_1664901384565.bib\n",
      "15 de 51: ../01_Datasets/sciencedirect/ScienceDirect_citations_1664901396061.bib\n",
      "16 de 51: ../01_Datasets/sciencedirect/ScienceDirect_citations_1664901407156.bib\n",
      "17 de 51: ../01_Datasets/sciencedirect/ScienceDirect_citations_1664901423447.bib\n",
      "18 de 51: ../01_Datasets/sciencedirect/ScienceDirect_citations_1664901473402.bib\n",
      "19 de 51: ../01_Datasets/sciencedirect/ScienceDirect_citations_1664901483538.bib\n",
      "20 de 51: ../01_Datasets/sciencedirect/ScienceDirect_citations_1664901493338.bib\n",
      "21 de 51: ../01_Datasets/sciencedirect/ScienceDirect_citations_1664901516463.bib\n",
      "22 de 51: ../01_Datasets/sciencedirect/ScienceDirect_citations_1664901530660.bib\n",
      "23 de 51: ../01_Datasets/sciencedirect/ScienceDirect_citations_1664901545863.bib\n",
      "24 de 51: ../01_Datasets/sciencedirect/ScienceDirect_citations_1664901569366.bib\n",
      "25 de 51: ../01_Datasets/sciencedirect/ScienceDirect_citations_1664901582313.bib\n",
      "26 de 51: ../01_Datasets/sciencedirect/ScienceDirect_citations_1664901593466.bib\n",
      "27 de 51: ../01_Datasets/sciencedirect/ScienceDirect_citations_1664901604197.bib\n",
      "28 de 51: ../01_Datasets/sciencedirect/ScienceDirect_citations_1664901618620.bib\n",
      "29 de 51: ../01_Datasets/sciencedirect/ScienceDirect_citations_1664901629453.bib\n",
      "30 de 51: ../01_Datasets/sciencedirect/ScienceDirect_citations_1664901642131.bib\n",
      "31 de 51: ../01_Datasets/sciencedirect/ScienceDirect_citations_1664901653154.bib\n",
      "32 de 51: ../01_Datasets/sciencedirect/ScienceDirect_citations_1664901714428.bib\n",
      "33 de 51: ../01_Datasets/sciencedirect/ScienceDirect_citations_1664901727203.bib\n",
      "34 de 51: ../01_Datasets/sciencedirect/ScienceDirect_citations_1664901739254.bib\n",
      "35 de 51: ../01_Datasets/sciencedirect/ScienceDirect_citations_1664901753759.bib\n",
      "36 de 51: ../01_Datasets/sciencedirect/ScienceDirect_citations_1664901771138.bib\n",
      "37 de 51: ../01_Datasets/sciencedirect/ScienceDirect_citations_1664901780783.bib\n",
      "38 de 51: ../01_Datasets/sciencedirect/ScienceDirect_citations_1664901790793.bib\n",
      "39 de 51: ../01_Datasets/sciencedirect/ScienceDirect_citations_1664901802926.bib\n",
      "40 de 51: ../01_Datasets/sciencedirect/ScienceDirect_citations_1664901814134.bib\n",
      "41 de 51: ../01_Datasets/sciencedirect/ScienceDirect_citations_1664901904068.bib\n",
      "42 de 51: ../01_Datasets/sciencedirect/ScienceDirect_citations_1664901914229.bib\n",
      "43 de 51: ../01_Datasets/sciencedirect/ScienceDirect_citations_1664901925196.bib\n",
      "44 de 51: ../01_Datasets/sciencedirect/ScienceDirect_citations_1664901936569.bib\n",
      "45 de 51: ../01_Datasets/sciencedirect/ScienceDirect_citations_1664901948081.bib\n",
      "46 de 51: ../01_Datasets/sciencedirect/ScienceDirect_citations_1664901957848.bib\n",
      "47 de 51: ../01_Datasets/sciencedirect/ScienceDirect_citations_1664901969577.bib\n",
      "48 de 51: ../01_Datasets/sciencedirect/ScienceDirect_citations_1664901979356.bib\n",
      "49 de 51: ../01_Datasets/sciencedirect/ScienceDirect_citations_1664901990073.bib\n",
      "50 de 51: ../01_Datasets/sciencedirect/ScienceDirect_citations_1664902039403.bib\n",
      "51 de 51: ../01_Datasets/sciencedirect/ScienceDirect_citations_1664902053739.bib\n",
      "Shape df_../01_Datasets/sciencedirect:  (4858, 22)\n",
      "\n",
      "Shape df_all_raw:  (6775, 27)\n"
     ]
    }
   ],
   "source": [
    "list_folders = []\n",
    "for folder in glob.glob(f'../01_Datasets/*'):\n",
    "    list_folders.append(folder)\n",
    "list_folders\n",
    "\n",
    "list_df = []\n",
    "for f in list_folders:\n",
    "    print('\\n',f)\n",
    "    df_temp = load_bib(f) #def\n",
    "    list_df.append(df_temp)\n",
    "df_all_raw = pd.concat(list_df)\n",
    "print('\\nShape df_all_raw: ',df_all_raw.shape)"
   ]
  },
  {
   "cell_type": "markdown",
   "metadata": {},
   "source": [
    "# Features renaming / selection"
   ]
  },
  {
   "cell_type": "code",
   "execution_count": 47,
   "metadata": {},
   "outputs": [
    {
     "data": {
      "text/html": [
       "<div>\n",
       "<style scoped>\n",
       "    .dataframe tbody tr th:only-of-type {\n",
       "        vertical-align: middle;\n",
       "    }\n",
       "\n",
       "    .dataframe tbody tr th {\n",
       "        vertical-align: top;\n",
       "    }\n",
       "\n",
       "    .dataframe thead th {\n",
       "        text-align: right;\n",
       "    }\n",
       "</style>\n",
       "<table border=\"1\" class=\"dataframe\">\n",
       "  <thead>\n",
       "    <tr style=\"text-align: right;\">\n",
       "      <th></th>\n",
       "      <th>author</th>\n",
       "      <th>title</th>\n",
       "      <th>keywords</th>\n",
       "      <th>abstract</th>\n",
       "      <th>year</th>\n",
       "      <th>type_publication</th>\n",
       "      <th>doi</th>\n",
       "    </tr>\n",
       "  </thead>\n",
       "  <tbody>\n",
       "    <tr>\n",
       "      <th>7</th>\n",
       "      <td>A. Hubaux</td>\n",
       "      <td>A new geological tool-the data</td>\n",
       "      <td>NaN</td>\n",
       "      <td>Today data processing technology offers new an...</td>\n",
       "      <td>1973</td>\n",
       "      <td>article</td>\n",
       "      <td>https://doi.org/10.1016/0012-8252(73)90089-5</td>\n",
       "    </tr>\n",
       "    <tr>\n",
       "      <th>9</th>\n",
       "      <td>K. Trenberth and J. Angell and R. Barry and R....</td>\n",
       "      <td>Working Group 1: Observations</td>\n",
       "      <td>NaN</td>\n",
       "      <td>NaN</td>\n",
       "      <td>1991</td>\n",
       "      <td>incollection</td>\n",
       "      <td>https://doi.org/10.1016/B978-0-444-88351-3.500...</td>\n",
       "    </tr>\n",
       "    <tr>\n",
       "      <th>83</th>\n",
       "      <td>C.K Yeo and S.C Hui and I.Y Soon and B.S Lee</td>\n",
       "      <td>An adaptive protocol for real-time fax communi...</td>\n",
       "      <td>Internet faxing, Adaptive fax communication, R...</td>\n",
       "      <td>Internet faxing allows users from different lo...</td>\n",
       "      <td>2001</td>\n",
       "      <td>article</td>\n",
       "      <td>https://doi.org/10.1016/S0140-3664(00)00342-X</td>\n",
       "    </tr>\n",
       "    <tr>\n",
       "      <th>7</th>\n",
       "      <td>G. Holmes and T.C. Smith</td>\n",
       "      <td>7 - Data mining</td>\n",
       "      <td>NaN</td>\n",
       "      <td>NaN</td>\n",
       "      <td>2001</td>\n",
       "      <td>incollection</td>\n",
       "      <td>https://doi.org/10.1533/9781855736375.2.137</td>\n",
       "    </tr>\n",
       "    <tr>\n",
       "      <th>25</th>\n",
       "      <td>Joaquin Dopazo and Edward Zanders and Ilaria D...</td>\n",
       "      <td>Methods and approaches in the analysis of gene...</td>\n",
       "      <td>Immunological research, Data analysis, Human g...</td>\n",
       "      <td>The application of high-density DNA array tech...</td>\n",
       "      <td>2001</td>\n",
       "      <td>article</td>\n",
       "      <td>https://doi.org/10.1016/S0022-1759(01)00307-6</td>\n",
       "    </tr>\n",
       "  </tbody>\n",
       "</table>\n",
       "</div>"
      ],
      "text/plain": [
       "                                               author                                              title                                           keywords                                           abstract  year type_publication                                                doi\n",
       "7                                           A. Hubaux                     A new geological tool-the data                                                NaN  Today data processing technology offers new an...  1973          article       https://doi.org/10.1016/0012-8252(73)90089-5\n",
       "9   K. Trenberth and J. Angell and R. Barry and R....                      Working Group 1: Observations                                                NaN                                                NaN  1991     incollection  https://doi.org/10.1016/B978-0-444-88351-3.500...\n",
       "83       C.K Yeo and S.C Hui and I.Y Soon and B.S Lee  An adaptive protocol for real-time fax communi...  Internet faxing, Adaptive fax communication, R...  Internet faxing allows users from different lo...  2001          article      https://doi.org/10.1016/S0140-3664(00)00342-X\n",
       "7                            G. Holmes and T.C. Smith                                    7 - Data mining                                                NaN                                                NaN  2001     incollection        https://doi.org/10.1533/9781855736375.2.137\n",
       "25  Joaquin Dopazo and Edward Zanders and Ilaria D...  Methods and approaches in the analysis of gene...  Immunological research, Data analysis, Human g...  The application of high-density DNA array tech...  2001          article      https://doi.org/10.1016/S0022-1759(01)00307-6"
      ]
     },
     "execution_count": 47,
     "metadata": {},
     "output_type": "execute_result"
    }
   ],
   "source": [
    "df_all = df_all_raw.copy()\n",
    "df_all.rename(columns={'ENTRYTYPE': 'type_publication'}, inplace = True)\n",
    "\n",
    "cols_to_keep = ['author', 'title', 'keywords', 'abstract', 'year', 'type_publication', 'doi']\n",
    "\n",
    "df_all = df_all[cols_to_keep]\n",
    "\n",
    "df_all.head()"
   ]
  },
  {
   "cell_type": "markdown",
   "metadata": {},
   "source": [
    "# Dtypes"
   ]
  },
  {
   "cell_type": "code",
   "execution_count": 48,
   "metadata": {},
   "outputs": [
    {
     "data": {
      "text/plain": [
       "author              object\n",
       "title               object\n",
       "keywords            object\n",
       "abstract            object\n",
       "year                 int64\n",
       "type_publication    object\n",
       "doi                 object\n",
       "dtype: object"
      ]
     },
     "execution_count": 48,
     "metadata": {},
     "output_type": "execute_result"
    }
   ],
   "source": [
    "df_all.dtypes\n"
   ]
  },
  {
   "cell_type": "code",
   "execution_count": 49,
   "metadata": {},
   "outputs": [
    {
     "name": "stdout",
     "output_type": "stream",
     "text": [
      "dtypes:\n",
      " author              object\n",
      "title               object\n",
      "keywords            object\n",
      "abstract            object\n",
      "year                 int64\n",
      "type_publication    object\n",
      "doi                 object\n",
      "dtype: object \n",
      "\n"
     ]
    },
    {
     "data": {
      "text/html": [
       "<div>\n",
       "<style scoped>\n",
       "    .dataframe tbody tr th:only-of-type {\n",
       "        vertical-align: middle;\n",
       "    }\n",
       "\n",
       "    .dataframe tbody tr th {\n",
       "        vertical-align: top;\n",
       "    }\n",
       "\n",
       "    .dataframe thead th {\n",
       "        text-align: right;\n",
       "    }\n",
       "</style>\n",
       "<table border=\"1\" class=\"dataframe\">\n",
       "  <thead>\n",
       "    <tr style=\"text-align: right;\">\n",
       "      <th></th>\n",
       "      <th>author</th>\n",
       "      <th>title</th>\n",
       "      <th>keywords</th>\n",
       "      <th>abstract</th>\n",
       "      <th>year</th>\n",
       "      <th>type_publication</th>\n",
       "      <th>doi</th>\n",
       "    </tr>\n",
       "  </thead>\n",
       "  <tbody>\n",
       "    <tr>\n",
       "      <th>7</th>\n",
       "      <td>A. Hubaux</td>\n",
       "      <td>A new geological tool-the data</td>\n",
       "      <td>NaN</td>\n",
       "      <td>Today data processing technology offers new an...</td>\n",
       "      <td>1973</td>\n",
       "      <td>article</td>\n",
       "      <td>https://doi.org/10.1016/0012-8252(73)90089-5</td>\n",
       "    </tr>\n",
       "    <tr>\n",
       "      <th>9</th>\n",
       "      <td>K. Trenberth and J. Angell and R. Barry and R....</td>\n",
       "      <td>Working Group 1: Observations</td>\n",
       "      <td>NaN</td>\n",
       "      <td>NaN</td>\n",
       "      <td>1991</td>\n",
       "      <td>incollection</td>\n",
       "      <td>https://doi.org/10.1016/B978-0-444-88351-3.500...</td>\n",
       "    </tr>\n",
       "    <tr>\n",
       "      <th>83</th>\n",
       "      <td>C.K Yeo and S.C Hui and I.Y Soon and B.S Lee</td>\n",
       "      <td>An adaptive protocol for real-time fax communi...</td>\n",
       "      <td>Internet faxing, Adaptive fax communication, R...</td>\n",
       "      <td>Internet faxing allows users from different lo...</td>\n",
       "      <td>2001</td>\n",
       "      <td>article</td>\n",
       "      <td>https://doi.org/10.1016/S0140-3664(00)00342-X</td>\n",
       "    </tr>\n",
       "    <tr>\n",
       "      <th>7</th>\n",
       "      <td>G. Holmes and T.C. Smith</td>\n",
       "      <td>7 - Data mining</td>\n",
       "      <td>NaN</td>\n",
       "      <td>NaN</td>\n",
       "      <td>2001</td>\n",
       "      <td>incollection</td>\n",
       "      <td>https://doi.org/10.1533/9781855736375.2.137</td>\n",
       "    </tr>\n",
       "    <tr>\n",
       "      <th>25</th>\n",
       "      <td>Joaquin Dopazo and Edward Zanders and Ilaria D...</td>\n",
       "      <td>Methods and approaches in the analysis of gene...</td>\n",
       "      <td>Immunological research, Data analysis, Human g...</td>\n",
       "      <td>The application of high-density DNA array tech...</td>\n",
       "      <td>2001</td>\n",
       "      <td>article</td>\n",
       "      <td>https://doi.org/10.1016/S0022-1759(01)00307-6</td>\n",
       "    </tr>\n",
       "  </tbody>\n",
       "</table>\n",
       "</div>"
      ],
      "text/plain": [
       "                                               author                                              title                                           keywords                                           abstract  year type_publication                                                doi\n",
       "7                                           A. Hubaux                     A new geological tool-the data                                                NaN  Today data processing technology offers new an...  1973          article       https://doi.org/10.1016/0012-8252(73)90089-5\n",
       "9   K. Trenberth and J. Angell and R. Barry and R....                      Working Group 1: Observations                                                NaN                                                NaN  1991     incollection  https://doi.org/10.1016/B978-0-444-88351-3.500...\n",
       "83       C.K Yeo and S.C Hui and I.Y Soon and B.S Lee  An adaptive protocol for real-time fax communi...  Internet faxing, Adaptive fax communication, R...  Internet faxing allows users from different lo...  2001          article      https://doi.org/10.1016/S0140-3664(00)00342-X\n",
       "7                            G. Holmes and T.C. Smith                                    7 - Data mining                                                NaN                                                NaN  2001     incollection        https://doi.org/10.1533/9781855736375.2.137\n",
       "25  Joaquin Dopazo and Edward Zanders and Ilaria D...  Methods and approaches in the analysis of gene...  Immunological research, Data analysis, Human g...  The application of high-density DNA array tech...  2001          article      https://doi.org/10.1016/S0022-1759(01)00307-6"
      ]
     },
     "metadata": {},
     "output_type": "display_data"
    }
   ],
   "source": [
    "#Adjusting \"year\" feature dtype\n",
    "df_all['year'] = df_all.year.astype('int64')\n",
    "print('dtypes:\\n', df_all.dtypes, '\\n')\n",
    "\n",
    "#Sorting values by \"year\"\n",
    "df_all = df_all.sort_values('year')\n",
    "display(df_all.head())"
   ]
  },
  {
   "cell_type": "markdown",
   "metadata": {},
   "source": [
    "# NaN analysis"
   ]
  },
  {
   "cell_type": "code",
   "execution_count": 50,
   "metadata": {},
   "outputs": [
    {
     "name": "stdout",
     "output_type": "stream",
     "text": [
      "Shape:  (6467, 7) \n",
      "\n",
      "Nan Analysis: \n",
      "author              222\n",
      "title                13\n",
      "keywords            816\n",
      "abstract            475\n",
      "year                  0\n",
      "type_publication      0\n",
      "doi                  93\n",
      "dtype: int64\n",
      "\n"
     ]
    }
   ],
   "source": [
    "print('Shape: ',df_all.shape,'\\n')\n",
    "print(f'Nan Analysis: \\n{df_all.isna().sum()}\\n')\n"
   ]
  },
  {
   "cell_type": "code",
   "execution_count": 51,
   "metadata": {},
   "outputs": [
    {
     "name": "stdout",
     "output_type": "stream",
     "text": [
      "Shape before dropna:  (6467, 7)\n",
      "Shape after dropna:  (5577, 7)\n"
     ]
    }
   ],
   "source": [
    "print('Shape before dropna: ', df_all.shape)\n",
    "df_all.dropna(axis = 0, inplace = True)\n",
    "print('Shape after dropna: ', df_all.shape)"
   ]
  },
  {
   "cell_type": "markdown",
   "metadata": {},
   "source": [
    "# Drop duplicates"
   ]
  },
  {
   "cell_type": "code",
   "execution_count": 52,
   "metadata": {},
   "outputs": [
    {
     "name": "stdout",
     "output_type": "stream",
     "text": [
      "Shape before drop_duplicates:  (5577, 7)\n",
      "Shape after drop_duplicates:  (5577, 7)\n"
     ]
    }
   ],
   "source": [
    "print('Shape before drop_duplicates: ',df_all.shape)\n",
    "df_all.drop_duplicates(inplace = True)\n",
    "print('Shape after drop_duplicates: ',df_all.shape)"
   ]
  },
  {
   "cell_type": "markdown",
   "metadata": {},
   "source": [
    "# Export"
   ]
  },
  {
   "cell_type": "markdown",
   "metadata": {},
   "source": [
    "## Creating 03_OutputFiles if not exists"
   ]
  },
  {
   "cell_type": "code",
   "execution_count": null,
   "metadata": {},
   "outputs": [],
   "source": [
    "if not os.path.exists('../03_OutputFiles/'):\n",
    "  os.makedirs('../03_OutputFiles/')"
   ]
  },
  {
   "cell_type": "markdown",
   "metadata": {},
   "source": [
    "## Creating yaml file if not exists"
   ]
  },
  {
   "cell_type": "code",
   "execution_count": null,
   "metadata": {},
   "outputs": [],
   "source": [
    "if not os.path.exists(\"configuration.yaml\"):\n",
    "  configuration_dict = {\n",
    "        'output_extensions': ['csv', 'json', 'yaml']\n",
    "    }\n",
    "  with open('configuration.yaml', 'w') as yamlfile:\n",
    "    data = yaml.dump(configuration_dict, yamlfile)\n",
    "\n",
    "configuration_file = read_yaml(\"configuration.yaml\")\n",
    "\n",
    "\n",
    "print(\"Output extensions options: \", configuration_file['output_extensions'])"
   ]
  },
  {
   "cell_type": "markdown",
   "metadata": {},
   "source": [
    "## Reading yaml file and exporting"
   ]
  },
  {
   "cell_type": "code",
   "execution_count": null,
   "metadata": {},
   "outputs": [],
   "source": [
    "for extension_name in configuration_file['output_extensions']:\n",
    "  if extension_name == 'csv':\n",
    "    write_csv(df_all, 'df_all')\n",
    "  elif extension_name == 'json':\n",
    "    write_json(df_all, 'df_all')\n",
    "  elif extension_name == 'yaml':\n",
    "    write_yaml(df_all, 'df_all')"
   ]
  }
 ],
 "metadata": {
  "kernelspec": {
   "display_name": "Python 3.8.5 ('base')",
   "language": "python",
   "name": "python3"
  },
  "language_info": {
   "codemirror_mode": {
    "name": "ipython",
    "version": 3
   },
   "file_extension": ".py",
   "mimetype": "text/x-python",
   "name": "python",
   "nbconvert_exporter": "python",
   "pygments_lexer": "ipython3",
   "version": "3.8.5"
  },
  "vscode": {
   "interpreter": {
    "hash": "dbbbd85b2a4798c027da7b5a0fd5dd47a25f4b0dd387608339a19f5db8ee71ab"
   }
  }
 },
 "nbformat": 4,
 "nbformat_minor": 4
}
